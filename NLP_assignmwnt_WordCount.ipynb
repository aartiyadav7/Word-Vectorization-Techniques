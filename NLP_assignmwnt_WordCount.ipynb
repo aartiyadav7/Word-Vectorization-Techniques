{
  "nbformat": 4,
  "nbformat_minor": 0,
  "metadata": {
    "colab": {
      "provenance": []
    },
    "kernelspec": {
      "name": "python3",
      "display_name": "Python 3"
    },
    "language_info": {
      "name": "python"
    }
  },
  "cells": [
    {
      "cell_type": "markdown",
      "source": [
        "**Name: Aarti Yadav**\n",
        "\n",
        "**PRN Number: 24070149029**\n",
        "\n",
        "\n",
        "#**Natural Language Processing: Word Vectorization Techniques**\n",
        "\n",
        "##**Part A: Count Vectorizer**"
      ],
      "metadata": {
        "id": "4a4PbcEpgsmJ"
      }
    },
    {
      "cell_type": "markdown",
      "source": [
        "#Given the following set of sentences:\n",
        "\n",
        "* \"I love machine learning.\"\n",
        "\n",
        "* \"Machine learning is fascinating.\"\n",
        "\n",
        "* \"I love data science and machine learning.\"\n",
        "\n",
        "Use **CountVectorizer** from **scikit-learn** to:\n",
        "\n",
        "* Tokenize the sentences.\n",
        "\n",
        "* Transform them into a word count matrix.\n",
        "\n",
        "* Display the resulting feature names (words) and the corresponding matrix for the sentences."
      ],
      "metadata": {
        "id": "CamFuXxahcrZ"
      }
    },
    {
      "cell_type": "markdown",
      "source": [
        "**CountVectorizer:**\n",
        "\n",
        "First, we'll use **CountVectorizer** from **scikit-learn** to tokenize the sentences, transform them into a word count matrix, and display the resulting feature names and matrix.\n"
      ],
      "metadata": {
        "id": "NhWk9Leci4ag"
      }
    },
    {
      "cell_type": "code",
      "execution_count": null,
      "metadata": {
        "colab": {
          "base_uri": "https://localhost:8080/"
        },
        "id": "TF8Frzh8gjtl",
        "outputId": "9ac81035-ba16-4078-f5f1-add487bf3b28"
      },
      "outputs": [
        {
          "output_type": "stream",
          "name": "stdout",
          "text": [
            "Word Count Matrix:\n",
            " [[0 0 0 0 1 1 1 0]\n",
            " [0 0 1 1 1 0 1 0]\n",
            " [1 1 0 0 1 1 1 1]]\n",
            "Feature Names: ['and' 'data' 'fascinating' 'is' 'learning' 'love' 'machine' 'science']\n"
          ]
        }
      ],
      "source": [
        "from sklearn.feature_extraction.text import CountVectorizer\n",
        "\n",
        "#list of sentences\n",
        "sentences = [\n",
        "    \"I love machine learning.\",\n",
        "    \"Machine learning is fascinating.\",\n",
        "    \"I love data science and machine learning.\"\n",
        "]\n",
        "\n",
        "#initialize CountVectorizer\n",
        "vectorizer = CountVectorizer()\n",
        "\n",
        "#fit and transform the text data into a numerical matrix\n",
        "x = vectorizer.fit_transform(sentences)\n",
        "\n",
        "#convert the matrix to an array and display it\n",
        "print(\"Word Count Matrix:\\n\",x.toarray())\n",
        "\n",
        "#get the feature names (vocabulary)\n",
        "print(\"Feature Names:\",vectorizer.get_feature_names_out())"
      ]
    },
    {
      "cell_type": "markdown",
      "source": [
        "**CounterVectorizer:**\n",
        "\n",
        "tokenizes(splits) the text into individual words(tokens).\n",
        "\n",
        "**1. First Document : \"I love machine learning.\"**\n",
        "\n",
        "1. 'and': 0 occurences,\n",
        "2. 'data': 0 occurences,\n",
        "3. 'fascinating' : 0 occurences,\n",
        "4. 'is' : 0 occurences,\n",
        "5. 'learning': 1 occurences,\n",
        "6. 'love': 1 occurences,\n",
        "7. 'machine': 1 occurences,\n",
        "8. 'science': 0 occurences.\n",
        "\n",
        "The resulting vector: [0, 0, 0, 0, 1, 1, 1, 0]\n",
        "\n",
        "**2. Second document:(\"Machine learning is fascinating.\")**\n",
        "\n",
        "1. 'and': 0 occurences,\n",
        "2. 'data': 0 occurences,\n",
        "3. 'fascinating' : 1 occurences,\n",
        "4. 'is' : 1 occurences,\n",
        "5. 'learning': 1 occurences,\n",
        "6. 'love': 0 occurences,\n",
        "7. 'machine': 1 occurences,\n",
        "8. 'science': 0 occurences.\n",
        "\n",
        "The resulting vector: [0, 0, 1, 1, 1, 0, 1, 0]\n",
        "\n",
        "**3. Third Document:(\"I love data science and machine learning.\")**\n",
        "\n",
        "1. 'and': 1 occurences,\n",
        "2. 'data': 1 occurences,\n",
        "3. 'fascinating' : 0 occurences,\n",
        "4. 'is' : 0 occurences,\n",
        "5. 'learning': 1 occurences,\n",
        "6. 'love': 1 occurences,\n",
        "7. 'machine': 1 occurences,\n",
        "8. 'science': 1 occurences.\n",
        "\n",
        "The resulting vector: [1, 1, 0, 0, 1, 1, 1, 1]\n",
        "\n",
        "**Thus, the resulting matrix: x.toarray()**\n",
        "\n",
        "[[0, 0, 0, 0, 1, 1, 1, 0]\n",
        "\n",
        "[0, 0, 1, 1, 1, 0, 1, 0]\n",
        "\n",
        "[1, 1, 0, 0, 1, 1, 1, 1]]"
      ],
      "metadata": {
        "id": "oGRtsa8GmIEt"
      }
    },
    {
      "cell_type": "markdown",
      "source": [
        "#**Part B: TF-IDF Vectorizer**\n",
        "\n",
        "Use TfidfVectorizer to **transform** the following sentences into **TF-IDF vectors:**\n",
        "\n",
        "1. \"Natural language processing is exciting.\"\n",
        "2. \"Text analysis is crucial in data science.\"\n",
        "3. \"Deep learning models improve NLP tasks.\"\n",
        "\n",
        "Display the TF-IDF matrix and the corresponding feature names.\n",
        "\n",
        "Explain the importance of TF-IDF and how it differs from Count Vectorizer"
      ],
      "metadata": {
        "id": "qGxIdufXvDgA"
      }
    },
    {
      "cell_type": "code",
      "source": [
        "#Using TfidfVecorizer from scikit-learn to transform\n",
        "from sklearn.feature_extraction.text import TfidfVectorizer\n",
        "\n",
        "#List of sentences\n",
        "sentences = [\n",
        "    \"Natural language processing is exciting.\",\n",
        "    \"Text analysis is crucial in data science.\",\n",
        "    \"Deep learning models improve NLP tasks\"\n",
        "]\n",
        "\n",
        "#initialize TfidfVectorizer\n",
        "tfidf_vectorizer = TfidfVectorizer()\n",
        "\n",
        "#transform sentences into TF-IDF matrix\n",
        "tfidf_matrix = tfidf_vectorizer.fit_transform(sentences)\n",
        "\n",
        "#get feature names\n",
        "tfidf_feature_names = tfidf_vectorizer.get_feature_names_out()\n",
        "\n",
        "#display feature names and TF-IDF matrix\n",
        "print(\"TF-IDF feature names\\n\\n\",tfidf_feature_names)\n",
        "print(\"TF-IDF Matrix:\\n\\n\",tfidf_matrix.toarray())\n"
      ],
      "metadata": {
        "colab": {
          "base_uri": "https://localhost:8080/"
        },
        "id": "bzRIBcyskodV",
        "outputId": "a124d586-1036-46a9-ad5d-43f3416c3245"
      },
      "execution_count": null,
      "outputs": [
        {
          "output_type": "stream",
          "name": "stdout",
          "text": [
            "TF-IDF feature names\n",
            "\n",
            " ['analysis' 'crucial' 'data' 'deep' 'exciting' 'improve' 'in' 'is'\n",
            " 'language' 'learning' 'models' 'natural' 'nlp' 'processing' 'science'\n",
            " 'tasks' 'text']\n",
            "TF-IDF Matrix:\n",
            "\n",
            " [[0.         0.         0.         0.         0.46735098 0.\n",
            "  0.         0.35543247 0.46735098 0.         0.         0.46735098\n",
            "  0.         0.46735098 0.         0.         0.        ]\n",
            " [0.38988801 0.38988801 0.38988801 0.         0.         0.\n",
            "  0.38988801 0.29651988 0.         0.         0.         0.\n",
            "  0.         0.         0.38988801 0.         0.38988801]\n",
            " [0.         0.         0.         0.40824829 0.         0.40824829\n",
            "  0.         0.         0.         0.40824829 0.40824829 0.\n",
            "  0.40824829 0.         0.         0.40824829 0.        ]]\n"
          ]
        }
      ]
    },
    {
      "cell_type": "markdown",
      "source": [
        "**Importance of TF-IDF and How it Differs from Count Vectorizer**\n",
        "\n",
        "**TF-IDF(Term Frequency- Inverse Document Frequency):**\n",
        "\n",
        "* Term Frequency(TF) : Measures the frequency of a word in a document.\n",
        "* Inverse Document Frequency(IDF): Measures how common or rare word is across the entire corpus.\n",
        "\n",
        "Formula: $$ \\text{TF-IDF}(t, d) = \\text{TF}(t, d) \\times \\text{IDF}(t) $$\n",
        "\n",
        " * TF(t, d): Number of times term\n",
        "𝑡\n",
        " appears in document\n",
        "𝑑\n",
        " / Total number of terms in document\n",
        "𝑑\n",
        "\n",
        " *  IDF(t):\n",
        "log\n",
        "⁡\n",
        "(\n",
        "𝑁/\n",
        "1\n",
        "+\n",
        "DF\n",
        "(\n",
        "𝑡\n",
        ")\n",
        ")\n",
        "\n",
        "* N : Total number of documents\n",
        "* DF(t) : Number of documents containing term t"
      ],
      "metadata": {
        "id": "o_npj2b1zHLD"
      }
    },
    {
      "cell_type": "markdown",
      "source": [],
      "metadata": {
        "id": "RIPdlMy-_H-M"
      }
    },
    {
      "cell_type": "markdown",
      "source": [
        "#**Part C: Word2Vec**"
      ],
      "metadata": {
        "id": "8IJsGEEq_OhJ"
      }
    },
    {
      "cell_type": "markdown",
      "source": [
        "**Step 1: Training a Word2Vec model using Gensim**"
      ],
      "metadata": {
        "id": "3_xJk5NH_nFQ"
      }
    },
    {
      "cell_type": "markdown",
      "source": [
        "**Step 2: Find the most similar words to the word \"learning\"**"
      ],
      "metadata": {
        "id": "FV_HgjqC_xh2"
      }
    },
    {
      "cell_type": "markdown",
      "source": [
        "**Step 3: Visualizing the word embeddings for the words \"machine\", \"learning\", and \"AI\"**"
      ],
      "metadata": {
        "id": "8Jct8is9_3WX"
      }
    },
    {
      "cell_type": "markdown",
      "source": [
        "**Step 4: Compute cosine similarity between two words**"
      ],
      "metadata": {
        "id": "4oMvXe6P_9Am"
      }
    },
    {
      "cell_type": "code",
      "source": [
        "import gensim\n",
        "from gensim.models import Word2Vec\n",
        "from sklearn.decomposition import PCA\n",
        "import matplotlib.pyplot as plt\n",
        "from sklearn.manifold import TSNE\n",
        "from scipy.spatial.distance import cosine\n"
      ],
      "metadata": {
        "id": "UqvwFZD100Bh"
      },
      "execution_count": null,
      "outputs": []
    },
    {
      "cell_type": "code",
      "source": [
        "pip install gensim scikit-learn matplotlib"
      ],
      "metadata": {
        "colab": {
          "base_uri": "https://localhost:8080/"
        },
        "id": "1kvPMGfqEBm5",
        "outputId": "e12b1f6f-f799-4682-b346-f909751c1379"
      },
      "execution_count": null,
      "outputs": [
        {
          "output_type": "stream",
          "name": "stdout",
          "text": [
            "Requirement already satisfied: gensim in /usr/local/lib/python3.11/dist-packages (4.3.3)\n",
            "Requirement already satisfied: scikit-learn in /usr/local/lib/python3.11/dist-packages (1.6.1)\n",
            "Requirement already satisfied: matplotlib in /usr/local/lib/python3.11/dist-packages (3.10.0)\n",
            "Requirement already satisfied: numpy<2.0,>=1.18.5 in /usr/local/lib/python3.11/dist-packages (from gensim) (1.26.4)\n",
            "Requirement already satisfied: scipy<1.14.0,>=1.7.0 in /usr/local/lib/python3.11/dist-packages (from gensim) (1.13.1)\n",
            "Requirement already satisfied: smart-open>=1.8.1 in /usr/local/lib/python3.11/dist-packages (from gensim) (7.1.0)\n",
            "Requirement already satisfied: joblib>=1.2.0 in /usr/local/lib/python3.11/dist-packages (from scikit-learn) (1.4.2)\n",
            "Requirement already satisfied: threadpoolctl>=3.1.0 in /usr/local/lib/python3.11/dist-packages (from scikit-learn) (3.5.0)\n",
            "Requirement already satisfied: contourpy>=1.0.1 in /usr/local/lib/python3.11/dist-packages (from matplotlib) (1.3.1)\n",
            "Requirement already satisfied: cycler>=0.10 in /usr/local/lib/python3.11/dist-packages (from matplotlib) (0.12.1)\n",
            "Requirement already satisfied: fonttools>=4.22.0 in /usr/local/lib/python3.11/dist-packages (from matplotlib) (4.55.8)\n",
            "Requirement already satisfied: kiwisolver>=1.3.1 in /usr/local/lib/python3.11/dist-packages (from matplotlib) (1.4.8)\n",
            "Requirement already satisfied: packaging>=20.0 in /usr/local/lib/python3.11/dist-packages (from matplotlib) (24.2)\n",
            "Requirement already satisfied: pillow>=8 in /usr/local/lib/python3.11/dist-packages (from matplotlib) (11.1.0)\n",
            "Requirement already satisfied: pyparsing>=2.3.1 in /usr/local/lib/python3.11/dist-packages (from matplotlib) (3.2.1)\n",
            "Requirement already satisfied: python-dateutil>=2.7 in /usr/local/lib/python3.11/dist-packages (from matplotlib) (2.8.2)\n",
            "Requirement already satisfied: six>=1.5 in /usr/local/lib/python3.11/dist-packages (from python-dateutil>=2.7->matplotlib) (1.17.0)\n",
            "Requirement already satisfied: wrapt in /usr/local/lib/python3.11/dist-packages (from smart-open>=1.8.1->gensim) (1.17.2)\n"
          ]
        }
      ]
    },
    {
      "cell_type": "code",
      "source": [
        "import gensim\n",
        "from gensim.models import Word2Vec\n",
        "from sklearn.decomposition import PCA\n",
        "import matplotlib.pyplot as plt\n",
        "from sklearn.manifold import TSNE\n",
        "from scipy.spatial.distance import cosine\n",
        "import string\n",
        "\n",
        "# Step 1: Preprocess sentences to lowercase and remove punctuation\n",
        "def preprocess_sentence(sentence):\n",
        "    # Remove punctuation and convert to lowercase\n",
        "    return sentence.translate(str.maketrans('', '', string.punctuation)).lower().split()\n",
        "\n",
        "sentences = [\n",
        "    preprocess_sentence(\"Deep learning algorithms are changing the world.\"),\n",
        "    preprocess_sentence(\"Natural language understanding is an important field in AI.\"),\n",
        "    preprocess_sentence(\"Machine learning is used in many industries.\")\n",
        "]\n",
        "\n",
        "# Train the Word2Vec model on the preprocessed sentences\n",
        "model = Word2Vec(sentences, vector_size=100, window=5, min_count=1, workers=4)\n",
        "\n",
        "# Step 2: Find the most similar words to 'learning'\n",
        "similar_words = model.wv.most_similar('learning', topn=5)\n",
        "print(\"Most similar words to 'learning':\")\n",
        "print(similar_words)\n",
        "\n",
        "# Step 3: Visualize word embeddings using t-SNE or PCA\n",
        "def clean_word(word):\n",
        "    # Remove punctuation (if any) and convert to lowercase\n",
        "    return word.translate(str.maketrans('', '', string.punctuation)).lower()\n",
        "\n",
        "words_of_interest = ['machine', 'learning', 'ai']  # lowercase\n",
        "word_vectors = [model.wv[clean_word(word)] for word in words_of_interest]\n",
        "\n",
        "# Reduce the dimensionality of the word vectors using PCA\n",
        "pca = PCA(n_components=2)\n",
        "pca_result = pca.fit_transform(word_vectors)\n",
        "\n",
        "# Plot the word embeddings in 2D\n",
        "plt.figure(figsize=(8, 6))\n",
        "for i, word in enumerate(words_of_interest):\n",
        "    plt.scatter(pca_result[i, 0], pca_result[i, 1])\n",
        "    plt.text(pca_result[i, 0] + 0.05, pca_result[i, 1] + 0.05, word, fontsize=12)\n",
        "\n",
        "plt.title(\"Word Embeddings Visualization (PCA)\")\n",
        "plt.show()\n",
        "\n",
        "# Step 4: Compute cosine similarity between two words (e.g., \"AI\" and \"machine\")\n",
        "def cosine_similarity_between_words(model, word1, word2):\n",
        "    # Check if both words exist in the vocabulary (clean them before)\n",
        "    word1 = clean_word(word1)\n",
        "    word2 = clean_word(word2)\n",
        "\n",
        "    if word1 in model.wv and word2 in model.wv:\n",
        "        similarity = 1 - cosine(model.wv[word1], model.wv[word2])\n",
        "        return similarity\n",
        "    else:\n",
        "        return None\n",
        "\n",
        "# Example usage: Compute similarity between \"ai\" and \"machine\"\n",
        "similarity = cosine_similarity_between_words(model, 'AI', 'machine')\n",
        "print(f\"Cosine similarity between 'AI' and 'machine': {similarity}\")\n"
      ],
      "metadata": {
        "colab": {
          "base_uri": "https://localhost:8080/",
          "height": 599
        },
        "id": "d1JzEgBA_lZ8",
        "outputId": "612fed27-f35e-46d6-8bdc-d16030c52ce6"
      },
      "execution_count": null,
      "outputs": [
        {
          "output_type": "stream",
          "name": "stdout",
          "text": [
            "Most similar words to 'learning':\n",
            "[('ai', 0.21886149048805237), ('world', 0.21616262197494507), ('many', 0.09310895204544067), ('changing', 0.09296988695859909), ('understanding', 0.07964398711919785)]\n"
          ]
        },
        {
          "output_type": "display_data",
          "data": {
            "text/plain": [
              "<Figure size 800x600 with 1 Axes>"
            ],
            "image/png": "[encoded data removed]"
          },
          "metadata": {}
        },
        {
          "output_type": "stream",
          "name": "stdout",
          "text": [
            "Cosine similarity between 'AI' and 'machine': -0.14902947772443342\n"
          ]
        }
      ]
    },
    {
      "cell_type": "markdown",
      "source": [
        "**Conclusion:**\n",
        "\n",
        "1. Count Vectorizer: It counts word occurrences in a text but doesn't capture context or semantics. Simple but can lead to sparse matrices.\n",
        "\n",
        "2. TF-IDF Vectorizer: Improves on Count Vectorizer by adjusting word frequencies based on their importance across documents, reducing the weight of common words.\n",
        "\n",
        "3. Word2Vec: Uses context to generate dense, semantically rich word embeddings, capturing word meanings and relationships."
      ],
      "metadata": {
        "id": "0oX9PjvLLENY"
      }
    },
    {
      "cell_type": "markdown",
      "source": [
        "**References:**\n",
        "1. https://scikit-learn.org/stable/modules/feature_extraction.html\n",
        "2. https://www.geeksforgeeks.org/word2vec-with-gensim/"
      ],
      "metadata": {
        "id": "d9qYvd9XMVu4"
      }
    }
  ]
}